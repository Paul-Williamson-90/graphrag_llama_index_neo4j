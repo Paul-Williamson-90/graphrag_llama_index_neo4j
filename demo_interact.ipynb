{
 "cells": [
  {
   "cell_type": "code",
   "execution_count": null,
   "metadata": {},
   "outputs": [],
   "source": [
    "from src.query import QueryEngineFactory\n",
    "\n",
    "# Send a single query and receive a single response\n",
    "query_engine = QueryEngineFactory(\n",
    "    verbose=True\n",
    ").create()\n",
    "response = query_engine.query(\"In the story, how is the rope connected to the bird?\")\n",
    "response.response"
   ]
  },
  {
   "cell_type": "code",
   "execution_count": null,
   "metadata": {},
   "outputs": [],
   "source": [
    "from src.chat import ChatEngineFactory\n",
    "\n",
    "# Start a chat session, where the history of the conversation is maintained\n",
    "chat_engine = ChatEngineFactory(\n",
    "    verbose=True\n",
    ").create()\n",
    "response = chat_engine.chat(\"In the story, how is the rope connected to the bird?\")\n",
    "response.response"
   ]
  },
  {
   "cell_type": "code",
   "execution_count": null,
   "metadata": {},
   "outputs": [],
   "source": [
    "# see the chat history\n",
    "chat_engine.chat_history"
   ]
  }
 ],
 "metadata": {
  "language_info": {
   "name": "python"
  }
 },
 "nbformat": 4,
 "nbformat_minor": 2
}
